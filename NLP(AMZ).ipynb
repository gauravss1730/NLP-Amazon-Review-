{
  "nbformat": 4,
  "nbformat_minor": 0,
  "metadata": {
    "colab": {
      "name": "NLP(AMZ).ipynb",
      "provenance": [],
      "collapsed_sections": []
    },
    "kernelspec": {
      "name": "python3",
      "display_name": "Python 3"
    }
  },
  "cells": [
    {
      "cell_type": "code",
      "metadata": {
        "id": "u_aJNpRzOBts",
        "colab_type": "code",
        "colab": {
          "base_uri": "https://localhost:8080/",
          "height": 35
        },
        "outputId": "3c583b77-9291-44b5-82a3-07a5a3ec5ad9"
      },
      "source": [
        "import json\n",
        "import pandas as pd\n",
        "import numpy as np\n",
        "import matplotlib.pyplot as plt\n",
        "import seaborn as sns\n",
        "import cufflinks as cf\n",
        "cf.go_offline()\n",
        "cf.set_config_file(offline=False, world_readable=True)\n",
        "\n",
        "##Creating an empty list\n",
        "file=[]\n",
        "#Reading json file \n",
        "for line in open('Beauty_5.json', 'r'):\n",
        "    file.append(json.loads(line))\n",
        "##Converting json to csv format\n",
        "df=pd.DataFrame(file)\n",
        "df.shape\n"
      ],
      "execution_count": 127,
      "outputs": [
        {
          "output_type": "display_data",
          "data": {
            "text/html": [
              "        <script type=\"text/javascript\">\n",
              "        window.PlotlyConfig = {MathJaxConfig: 'local'};\n",
              "        if (window.MathJax) {MathJax.Hub.Config({SVG: {font: \"STIX-Web\"}});}\n",
              "        if (typeof require !== 'undefined') {\n",
              "        require.undef(\"plotly\");\n",
              "        requirejs.config({\n",
              "            paths: {\n",
              "                'plotly': ['https://cdn.plot.ly/plotly-latest.min']\n",
              "            }\n",
              "        });\n",
              "        require(['plotly'], function(Plotly) {\n",
              "            window._Plotly = Plotly;\n",
              "        });\n",
              "        }\n",
              "        </script>\n",
              "        "
            ]
          },
          "metadata": {
            "tags": []
          }
        },
        {
          "output_type": "execute_result",
          "data": {
            "text/plain": [
              "(198502, 9)"
            ]
          },
          "metadata": {
            "tags": []
          },
          "execution_count": 127
        }
      ]
    },
    {
      "cell_type": "code",
      "metadata": {
        "id": "sLRPGn_qXz_9",
        "colab_type": "code",
        "colab": {
          "base_uri": "https://localhost:8080/",
          "height": 422
        },
        "outputId": "54f65aea-bb18-4366-bbde-dc012b82e2c1"
      },
      "source": [
        "df.columns\n",
        "df.info()\n",
        "df.head(2)\n"
      ],
      "execution_count": 128,
      "outputs": [
        {
          "output_type": "stream",
          "text": [
            "<class 'pandas.core.frame.DataFrame'>\n",
            "RangeIndex: 198502 entries, 0 to 198501\n",
            "Data columns (total 9 columns):\n",
            " #   Column          Non-Null Count   Dtype  \n",
            "---  ------          --------------   -----  \n",
            " 0   reviewerID      198502 non-null  object \n",
            " 1   asin            198502 non-null  object \n",
            " 2   reviewerName    197116 non-null  object \n",
            " 3   helpful         198502 non-null  object \n",
            " 4   reviewText      198502 non-null  object \n",
            " 5   overall         198502 non-null  float64\n",
            " 6   summary         198502 non-null  object \n",
            " 7   unixReviewTime  198502 non-null  int64  \n",
            " 8   reviewTime      198502 non-null  object \n",
            "dtypes: float64(1), int64(1), object(7)\n",
            "memory usage: 13.6+ MB\n"
          ],
          "name": "stdout"
        },
        {
          "output_type": "execute_result",
          "data": {
            "text/html": [
              "<div>\n",
              "<style scoped>\n",
              "    .dataframe tbody tr th:only-of-type {\n",
              "        vertical-align: middle;\n",
              "    }\n",
              "\n",
              "    .dataframe tbody tr th {\n",
              "        vertical-align: top;\n",
              "    }\n",
              "\n",
              "    .dataframe thead th {\n",
              "        text-align: right;\n",
              "    }\n",
              "</style>\n",
              "<table border=\"1\" class=\"dataframe\">\n",
              "  <thead>\n",
              "    <tr style=\"text-align: right;\">\n",
              "      <th></th>\n",
              "      <th>reviewerID</th>\n",
              "      <th>asin</th>\n",
              "      <th>reviewerName</th>\n",
              "      <th>helpful</th>\n",
              "      <th>reviewText</th>\n",
              "      <th>overall</th>\n",
              "      <th>summary</th>\n",
              "      <th>unixReviewTime</th>\n",
              "      <th>reviewTime</th>\n",
              "    </tr>\n",
              "  </thead>\n",
              "  <tbody>\n",
              "    <tr>\n",
              "      <th>0</th>\n",
              "      <td>A1YJEY40YUW4SE</td>\n",
              "      <td>7806397051</td>\n",
              "      <td>Andrea</td>\n",
              "      <td>[3, 4]</td>\n",
              "      <td>Very oily and creamy. Not at all what I expect...</td>\n",
              "      <td>1.0</td>\n",
              "      <td>Don't waste your money</td>\n",
              "      <td>1391040000</td>\n",
              "      <td>01 30, 2014</td>\n",
              "    </tr>\n",
              "    <tr>\n",
              "      <th>1</th>\n",
              "      <td>A60XNB876KYML</td>\n",
              "      <td>7806397051</td>\n",
              "      <td>Jessica H.</td>\n",
              "      <td>[1, 1]</td>\n",
              "      <td>This palette was a decent price and I was look...</td>\n",
              "      <td>3.0</td>\n",
              "      <td>OK Palette!</td>\n",
              "      <td>1397779200</td>\n",
              "      <td>04 18, 2014</td>\n",
              "    </tr>\n",
              "  </tbody>\n",
              "</table>\n",
              "</div>"
            ],
            "text/plain": [
              "       reviewerID        asin  ... unixReviewTime   reviewTime\n",
              "0  A1YJEY40YUW4SE  7806397051  ...     1391040000  01 30, 2014\n",
              "1   A60XNB876KYML  7806397051  ...     1397779200  04 18, 2014\n",
              "\n",
              "[2 rows x 9 columns]"
            ]
          },
          "metadata": {
            "tags": []
          },
          "execution_count": 128
        }
      ]
    },
    {
      "cell_type": "code",
      "metadata": {
        "id": "bmHornD-YVUM",
        "colab_type": "code",
        "colab": {}
      },
      "source": [
        "#Rating below 2.5 is considered as Negative and above 2.5 is positive\n",
        "Reaction=[]\n",
        "for i in range(0,df.shape[0]):\n",
        "  if df['overall'][i] > 3:\n",
        "    Reaction.append(\"Positive\")\n",
        "  else: \n",
        "    Reaction.append(\"Negative\")\n",
        "\n",
        "df[\"Result\"]=Reaction\n",
        "\n"
      ],
      "execution_count": 129,
      "outputs": []
    },
    {
      "cell_type": "code",
      "metadata": {
        "id": "5qrm2CMERL_B",
        "colab_type": "code",
        "colab": {
          "base_uri": "https://localhost:8080/",
          "height": 299
        },
        "outputId": "fb0b7eac-b77a-46d4-ff8c-85266096d454"
      },
      "source": [
        "###Checking Biasness\n",
        "#There are more Positive reveiws\n",
        "sns.countplot(x ='Result', data = df) \n"
      ],
      "execution_count": 130,
      "outputs": [
        {
          "output_type": "execute_result",
          "data": {
            "text/plain": [
              "<matplotlib.axes._subplots.AxesSubplot at 0x7f92791197b8>"
            ]
          },
          "metadata": {
            "tags": []
          },
          "execution_count": 130
        },
        {
          "output_type": "display_data",
          "data": {
            "image/png": "[encoded data removed]",
            "text/plain": [
              "<Figure size 432x288 with 1 Axes>"
            ]
          },
          "metadata": {
            "tags": [],
            "needs_background": "light"
          }
        }
      ]
    },
    {
      "cell_type": "code",
      "metadata": {
        "id": "yvhyF4ehb4a2",
        "colab_type": "code",
        "colab": {
          "base_uri": "https://localhost:8080/",
          "height": 301
        },
        "outputId": "09021035-63fb-430d-98f1-0715f51073f3"
      },
      "source": [
        "sns.countplot(x =df['overall'].astype(object), data = df) "
      ],
      "execution_count": 131,
      "outputs": [
        {
          "output_type": "execute_result",
          "data": {
            "text/plain": [
              "<matplotlib.axes._subplots.AxesSubplot at 0x7f925f902278>"
            ]
          },
          "metadata": {
            "tags": []
          },
          "execution_count": 131
        },
        {
          "output_type": "display_data",
          "data": {
            "image/png": "[encoded data removed]",
            "text/plain": [
              "<Figure size 432x288 with 1 Axes>"
            ]
          },
          "metadata": {
            "tags": [],
            "needs_background": "light"
          }
        }
      ]
    },
    {
      "cell_type": "code",
      "metadata": {
        "id": "qwFmGJbyCt8b",
        "colab_type": "code",
        "colab": {}
      },
      "source": [
        "Text=pd.concat([df['reviewText'], df['Result']], axis=1)"
      ],
      "execution_count": 132,
      "outputs": []
    },
    {
      "cell_type": "code",
      "metadata": {
        "id": "DLLjNaelwLtH",
        "colab_type": "code",
        "colab": {
          "base_uri": "https://localhost:8080/",
          "height": 225
        },
        "outputId": "febb4b56-6811-4acc-fb68-52689e0a5a54"
      },
      "source": [
        "#Text cleaning\n",
        "#Since there are no quotes\n",
        "import re  #For stemming\n",
        "import nltk  #For stop words (The, and, hi)\n",
        "nltk.download(\"stopwords\")\n",
        "from nltk.corpus import stopwords\n",
        "from nltk.stem.porter import PorterStemmer\n",
        "corpus = []\n",
        "for i in range(0, len(Text)):\n",
        "  review = re.sub('[^a-zA-Z]', ' ', Text['reviewText'][i]) #Removing Punctualtion\n",
        "  review = review.lower()  #Changing it to lower case\n",
        "  review = review.split()  #Splitting word\n",
        "  ps = PorterStemmer()  #Stemming (Loving/Loved->Love)\n",
        "  all_stopwords = stopwords.words('english') #Removing (Then, they, I, has)\n",
        "  all_stopwords.remove('not')\n",
        "  all_stopwords.remove('very')\n",
        "  review = [ps.stem(word) for word in review if not word in set(all_stopwords)]\n",
        "  review = ' '.join(review)\n",
        "  corpus.append(review)\n",
        "print(corpus)"
      ],
      "execution_count": 133,
      "outputs": [
        {
          "output_type": "stream",
          "text": [
            "[nltk_data] Downloading package stopwords to /root/nltk_data...\n",
            "[nltk_data]   Package stopwords is already up-to-date!\n"
          ],
          "name": "stdout"
        },
        {
          "output_type": "stream",
          "text": [
            "IOPub data rate exceeded.\n",
            "The notebook server will temporarily stop sending output\n",
            "to the client in order to avoid crashing it.\n",
            "To change this limit, set the config variable\n",
            "`--NotebookApp.iopub_data_rate_limit`.\n",
            "\n",
            "Current values:\n",
            "NotebookApp.iopub_data_rate_limit=1000000.0 (bytes/sec)\n",
            "NotebookApp.rate_limit_window=3.0 (secs)\n",
            "\n"
          ],
          "name": "stderr"
        }
      ]
    },
    {
      "cell_type": "code",
      "metadata": {
        "id": "WkFSAvqdJPaN",
        "colab_type": "code",
        "colab": {}
      },
      "source": [
        "###Making sparse MATRIX\n",
        "from sklearn.feature_extraction.text import CountVectorizer\n",
        "CV=CountVectorizer(max_features = 1100)#Taking most frequent words, removing those who appeared least\n",
        "x=CV.fit_transform(corpus).toarray()\n",
        "y=Text['Result']"
      ],
      "execution_count": 134,
      "outputs": []
    },
    {
      "cell_type": "code",
      "metadata": {
        "id": "FtAcv4gaW3KE",
        "colab_type": "code",
        "colab": {
          "base_uri": "https://localhost:8080/",
          "height": 35
        },
        "outputId": "3aa8ad48-6783-4d8f-a2ca-ad8fbe8b0777"
      },
      "source": [
        "x.shape"
      ],
      "execution_count": 157,
      "outputs": [
        {
          "output_type": "execute_result",
          "data": {
            "text/plain": [
              "(198502, 1100)"
            ]
          },
          "metadata": {
            "tags": []
          },
          "execution_count": 157
        }
      ]
    },
    {
      "cell_type": "code",
      "metadata": {
        "id": "TVyf_nBcGuip",
        "colab_type": "code",
        "colab": {
          "base_uri": "https://localhost:8080/",
          "height": 283
        },
        "outputId": "4bcf1454-5645-4c45-c028-293458ace81c"
      },
      "source": [
        "##Visualizing\n",
        "total=np.sum(x, 0)\n",
        "total.sort()\n",
        "total.shape\n",
        "i=list(range(0,total.shape[0]))\n",
        "plt.scatter(i,total)\n"
      ],
      "execution_count": 136,
      "outputs": [
        {
          "output_type": "execute_result",
          "data": {
            "text/plain": [
              "<matplotlib.collections.PathCollection at 0x7f926da124a8>"
            ]
          },
          "metadata": {
            "tags": []
          },
          "execution_count": 136
        },
        {
          "output_type": "display_data",
          "data": {
            "image/png": "[encoded data removed]",
            "text/plain": [
              "<Figure size 432x288 with 1 Axes>"
            ]
          },
          "metadata": {
            "tags": [],
            "needs_background": "light"
          }
        }
      ]
    },
    {
      "cell_type": "code",
      "metadata": {
        "id": "hrkMVN-wYj5V",
        "colab_type": "code",
        "colab": {}
      },
      "source": [
        "from sklearn.model_selection import train_test_split\n",
        "x_train, x_test, y_train, y_test = train_test_split(x, y, test_size=0.2)"
      ],
      "execution_count": 137,
      "outputs": []
    },
    {
      "cell_type": "code",
      "metadata": {
        "id": "TX3C5kNDZ8Eg",
        "colab_type": "code",
        "colab": {
          "base_uri": "https://localhost:8080/",
          "height": 87
        },
        "outputId": "cb4295a4-008a-4306-c2de-b143de4b07ba"
      },
      "source": [
        "from sklearn.linear_model import LogisticRegression\n",
        "classifier = LogisticRegression(solver='sag', max_iter=400)\n",
        "classifier.fit(x_train, y_train)\n",
        "#Predicting the Test set results\n",
        "y_pred = classifier.predict(x_test)"
      ],
      "execution_count": 155,
      "outputs": [
        {
          "output_type": "stream",
          "text": [
            "/usr/local/lib/python3.6/dist-packages/sklearn/linear_model/_sag.py:330: ConvergenceWarning:\n",
            "\n",
            "The max_iter was reached which means the coef_ did not converge\n",
            "\n"
          ],
          "name": "stderr"
        }
      ]
    },
    {
      "cell_type": "code",
      "metadata": {
        "id": "lSlr21M1ZbaM",
        "colab_type": "code",
        "colab": {
          "base_uri": "https://localhost:8080/",
          "height": 69
        },
        "outputId": "a9c36f2f-a018-4946-fbbb-e3a2fc227f34"
      },
      "source": [
        "from sklearn.metrics import confusion_matrix, accuracy_score\n",
        "cm = confusion_matrix(y_test, y_pred)\n",
        "print(cm)\n",
        "accuracy_score(y_test, y_pred)"
      ],
      "execution_count": 156,
      "outputs": [
        {
          "output_type": "stream",
          "text": [
            "[[ 4559  4310]\n",
            " [ 1592 29240]]\n"
          ],
          "name": "stdout"
        },
        {
          "output_type": "execute_result",
          "data": {
            "text/plain": [
              "0.8513387572101458"
            ]
          },
          "metadata": {
            "tags": []
          },
          "execution_count": 156
        }
      ]
    },
    {
      "cell_type": "code",
      "metadata": {
        "id": "JI--5Sz65oUY",
        "colab_type": "code",
        "colab": {
          "base_uri": "https://localhost:8080/",
          "height": 156
        },
        "outputId": "52f3943f-1e0c-4f2d-bf11-c9a80a8f8340"
      },
      "source": [
        "from sklearn.ensemble import RandomForestClassifier\n",
        "RF = RandomForestClassifier(n_estimators = 12, criterion = 'entropy')\n",
        "RF.fit(x_train, y_train)"
      ],
      "execution_count": 145,
      "outputs": [
        {
          "output_type": "execute_result",
          "data": {
            "text/plain": [
              "RandomForestClassifier(bootstrap=True, ccp_alpha=0.0, class_weight=None,\n",
              "                       criterion='entropy', max_depth=None, max_features='auto',\n",
              "                       max_leaf_nodes=None, max_samples=None,\n",
              "                       min_impurity_decrease=0.0, min_impurity_split=None,\n",
              "                       min_samples_leaf=1, min_samples_split=2,\n",
              "                       min_weight_fraction_leaf=0.0, n_estimators=12,\n",
              "                       n_jobs=None, oob_score=False, random_state=None,\n",
              "                       verbose=0, warm_start=False)"
            ]
          },
          "metadata": {
            "tags": []
          },
          "execution_count": 145
        }
      ]
    },
    {
      "cell_type": "code",
      "metadata": {
        "id": "HppLLWVJ5s0A",
        "colab_type": "code",
        "colab": {
          "base_uri": "https://localhost:8080/",
          "height": 69
        },
        "outputId": "2353442a-edb4-4b2b-853b-1a27786d6be2"
      },
      "source": [
        "y_pred1=RF.predict(x_test)\n",
        "print(confusion_matrix(y_test, y_pred1))\n",
        "accuracy_score(y_test, y_pred1)\n"
      ],
      "execution_count": 146,
      "outputs": [
        {
          "output_type": "stream",
          "text": [
            "[[ 3783  5086]\n",
            " [ 1880 28952]]\n"
          ],
          "name": "stdout"
        },
        {
          "output_type": "execute_result",
          "data": {
            "text/plain": [
              "0.824538424724818"
            ]
          },
          "metadata": {
            "tags": []
          },
          "execution_count": 146
        }
      ]
    }
  ]
}